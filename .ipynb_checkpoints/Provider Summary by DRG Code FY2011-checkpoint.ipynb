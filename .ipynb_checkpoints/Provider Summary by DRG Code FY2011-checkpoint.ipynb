{
 "cells": [
  {
   "cell_type": "code",
   "execution_count": 9,
   "metadata": {},
   "outputs": [
    {
     "name": "stdout",
     "output_type": "stream",
     "text": [
      "<Response [200]>\n",
      "{u'provider_id': u'10001', u'average_medicare_payments_2': u'4763.73', u'provider_city': u'DOTHAN', u'average_medicare_payments': u'5777.24', u'provider_zip_code': u'36301', u'average_covered_charges': u'32963.07', u'provider_street_address': u'1108 ROSS CLARK CIRCLE', u'hospital_referral_region_description': u'AL - Dothan', u'provider_state': u'AL', u'provider_name': u'SOUTHEAST ALABAMA MEDICAL CENTER', u'drg_definition': u'039 - EXTRACRANIAL PROCEDURES W/O CC/MCC', u'total_discharges': u'91'}\n"
     ]
    }
   ],
   "source": [
    "import requests\n",
    "\n",
    "url = 'https://data.cms.gov/resource/ehrv-m9r6.json?'\n",
    "\n",
    "resp = requests.get(url)\n",
    "# Confirm request was valid:\n",
    "print(resp)\n",
    "\n",
    "#Return a dictionary containing JSON parsed into Python objects:\n",
    "data = resp.json()\n",
    "\n",
    "# Column headers: First row of data\n",
    "print(data[0])\n",
    "\n",
    "# Generate a DF\n",
    "drg_providers = pd.DataFrame(data, columns=data[0])\n",
    "\n",
    "print(drg_providers)"
   ]
  },
  {
   "cell_type": "code",
   "execution_count": null,
   "metadata": {},
   "outputs": [],
   "source": []
  }
 ],
 "metadata": {
  "kernelspec": {
   "display_name": "Python 2",
   "language": "python",
   "name": "python2"
  },
  "language_info": {
   "codemirror_mode": {
    "name": "ipython",
    "version": 2
   },
   "file_extension": ".py",
   "mimetype": "text/x-python",
   "name": "python",
   "nbconvert_exporter": "python",
   "pygments_lexer": "ipython2",
   "version": "2.7.14"
  }
 },
 "nbformat": 4,
 "nbformat_minor": 2
}
